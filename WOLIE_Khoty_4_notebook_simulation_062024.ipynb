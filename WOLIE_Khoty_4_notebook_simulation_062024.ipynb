{
 "cells": [
  {
   "cell_type": "markdown",
   "id": "0a9b41d7",
   "metadata": {},
   "source": [
    "# <FONT size=\"10pt\"> <center>Projet 5</center></FONT>\n",
    "\n",
    "\n",
    "### Notebook 3"
   ]
  },
  {
   "cell_type": "markdown",
   "id": "2293da4a",
   "metadata": {},
   "source": [
    "#### <FONT size=\"10pt\"> <center>Segmentez des clients d'un site e-commerce</center></FONT>\n",
    "\n",
    "\n",
    "\n",
    "Vous êtes consultant pour **Olist**, une entreprise brésilienne qui propose une solution de vente sur les marketplaces en ligne.\n",
    "Votre rôle est d’accompagner **Olist** dans leur projet de monter une équipe Data et leur premier cas d’usage Data Science autour de la segmentation client.\n",
    "\n",
    "Base de Données : https://www.kaggle.com/datasets/olistbr/brazilian-ecommerce/data\n",
    "\n",
    "\n",
    "## Description des dataset\n",
    "\n",
    "**Objectif**: \n",
    "*  Analyser en profondeur les données disponibles afin d'élaborer une stratégie de segmentation efficace..\n",
    "\n",
    "**Analyse de la forme** : \n",
    "    \n",
    "   * **orders**: informations sur les commandes et leur métadonnées\n",
    "     * **variable target** : order_id mais reste à identifier\n",
    "     * **Nombre des lignes et de colonnes** : 99441, 8\n",
    "     * **Types de variables** :8 qualitatives  \n",
    "     * **Analyse des valeurs manquantes** : moins de 5 % uniquemment sur les dates de livraison et de depart de livraison et data de confirmation de commande\n",
    "         * les types colonnes temporelles sont à corriger si on les garde. \n",
    "  \n",
    "  ------------------------\n",
    "   * **orders_item**: informations sur le contenu des commandes\n",
    "     * **variable target** : order_id , customer_id, seller_id, \n",
    "     * **Nombre des lignes et de colonnes** : 112650, 7\n",
    "     * **Types de variables** :4 qualitatives, 3 quantitatives  \n",
    "     * **Analyse des valeurs manquantes** : aucune \n",
    "   ----------------------------- \n",
    "   \n",
    "   * **order_review**: informations sur les commantaires des commandes\n",
    "     * **variable target** : order_id, review_score\t\n",
    "     * **Nombre des lignes et de colonnes** : 99224, 7\n",
    "     * **Types de variables** :6 qualitatives, 1 quantitatives  \n",
    "     * **Analyse des valeurs manquantes** : 90% et 60% sur les commentaire et leur titre. \n",
    "         * mettre \" \" pour corriger \n",
    "     \n",
    "  ---------------------------------  \n",
    "   * **products**: informations sur les produits, nom, taille, photos\n",
    "     * **variable target** : product_id, product_category_name\t\n",
    "     * **Nombre des lignes et de colonnes** : 32951, 9\n",
    "     * **Types de variables** :7 qualitatives, 2 quantitatives  \n",
    "     * **Analyse des valeurs manquantes** : environ 8 % sur les dimensions et la catégorie\n",
    "     * 73 catégories différentes > Tenter de réduire ce nombre. \n",
    "         * A traduire avec le dataset category name\n",
    "     ---------------------------- \n",
    "   * **payments**: informations sur les paiements, montant, echelonnés ou pas, payé avec bon d'achat ou non  \n",
    "     * **variable target** : product_id, product_category_name\t\n",
    "     * **Nombre des lignes et de colonnes** : 103886, 5\n",
    "     * **Types de variables** :2 qualitatives, 3 quantitatives  \n",
    "     * **Analyse des valeurs manquantes** : aucune \n",
    "     \n",
    "     ----------------------------------\n",
    "   * **customer**: informations sur les clients, et leur origine\n",
    "     * **variable target** : customer_unique_id, \t\n",
    "     * **Nombre des lignes et de colonnes** : 99441, 5\n",
    "     * **Types de variables** :4 qualitatives, 1 quantitatives  \n",
    "     * **Analyse des valeurs manquantes** : 0 valeurs manquantes\n",
    "     \n",
    "     ----------------------------------\n",
    "     \n",
    "     \n",
    "   * **sellers**: informations sur les vendeurs, localisation\n",
    "     * **variable target** :  seller_id\t\n",
    "     * **Nombre des lignes et de colonnes** : 3095, 4\n",
    "     * **Types de variables** : 3 qualitatives, 1 quantitatives  \n",
    "     * **Analyse des valeurs manquantes** : 0 valeurs manquantes \n",
    "     \n",
    "     ----------------------------------\n",
    "   * **geolocation**: informations sur la localisation des code postaux et villes utilisés dans les autres dataset\n",
    "     * **variable target** : zip code\n",
    "     * **Nombre des lignes et de colonnes** : 1000163, 5\n",
    "     * **Types de variables** :2 qualitatives, 3 quantitatives  \n",
    "     * **Analyse des valeurs manquantes** : 0 valeurs manquantes \n",
    "     * 8011 villes différentes or selon internet\n",
    "             https://cidades.ibge.gov.br/brasil/panoramail y en a 5570 , des corrections a faire au niveau de accents et enventuellement traduction. \n",
    "    ----------------------------------\n",
    "         \n",
    "   * **category_name**: traduction en anglais des noms de produits\n",
    "     * **variable target** :  product name\t\n",
    "     * **Nombre des lignes et de colonnes** : 71, 2\n",
    "     * **Types de variables** :2 qualitatives \n",
    "     * **Analyse des valeurs manquantes** : 0 valeurs manquantes"
   ]
  },
  {
   "cell_type": "markdown",
   "id": "1b16f6e7",
   "metadata": {},
   "source": [
    "## A- IMPORTATION DES LIBRAIRIES ET DES DONNEES"
   ]
  },
  {
   "cell_type": "code",
   "execution_count": 1,
   "id": "1656046b",
   "metadata": {},
   "outputs": [],
   "source": [
    "import pandas as pd\n",
    "import numpy as np\n",
    "import seaborn as sns\n",
    "import matplotlib.pyplot as plt\n",
    "from matplotlib.patches import Circle\n",
    "import matplotlib.pyplot as plt\n",
    "from dateutil.relativedelta import relativedelta\n",
    "from googletrans import Translator\n",
    "import pickle\n",
    "import math\n",
    "from tqdm import tqdm\n",
    "import missingno as msno\n",
    "from sklearn.impute import KNNImputer\n",
    "from sklearn.preprocessing import MinMaxScaler, StandardScaler\n",
    "from urllib.request import urlopen\n",
    "import folium\n",
    "import random\n",
    "from PIL import Image\n",
    "import branca.colormap as cm\n",
    "import plotly.express as px\n",
    "import scipy\n",
    "import time\n",
    "import os\n",
    "from scipy.stats import f_oneway\n",
    "from zoneinfo import ZoneInfo\n",
    "from datetime import datetime, date\n",
    "from tqdm import tqdm\n",
    "from pandas.tseries.offsets import DateOffset\n",
    "from sklearn.preprocessing import StandardScaler\n",
    "from sklearn import decomposition\n",
    "from sklearn.metrics import adjusted_rand_score, accuracy_score\n",
    "from statsmodels.stats.multicomp import pairwise_tukeyhsd\n",
    "from ipyleaflet import Map, Marker, basemaps\n",
    "from sklearn.preprocessing import OneHotEncoder, StandardScaler\n",
    "from sklearn.decomposition import PCA\n",
    "from sklearn.manifold import TSNE\n",
    "from sklearn.cluster import KMeans\n",
    "from sklearn.cluster import DBSCAN\n",
    "from sklearn.cluster import AgglomerativeClustering\n",
    "from sklearn.metrics import davies_bouldin_score\n",
    "from sklearn.metrics import silhouette_score\n",
    "from yellowbrick.cluster import KElbowVisualizer, SilhouetteVisualizer\n",
    "\n",
    "pd.set_option('mode.chained_assignment', None) # Pour éviter la survenue de messages d'erreur lors de la création\n",
    "                                                 # d'un nouveau dataframe à partir d'un existant\n",
    "\n",
    "from warnings import filterwarnings\n",
    "filterwarnings('ignore')  # code optionnel\n",
    "\n",
    "pd.set_option('display.max_columns', 200)\n",
    "pd.set_option('display.max_rows', 200)\n",
    "\n",
    "#from IPython.display import display, HTML\n",
    "#display(HTML(\"<style>.container { width:90% !important; }</style>\")) # Largeur écran"
   ]
  },
  {
   "cell_type": "markdown",
   "id": "430ff486",
   "metadata": {},
   "source": [
    "## B- Définition des fonctions"
   ]
  },
  {
   "cell_type": "markdown",
   "id": "795e75a4",
   "metadata": {},
   "source": [
    "### B.1- Table Produit"
   ]
  },
  {
   "cell_type": "code",
   "execution_count": 2,
   "id": "8fdccbac",
   "metadata": {},
   "outputs": [],
   "source": [
    "# Fonction pour traiter et organiser les informations des produits achetés :\n",
    "def transformer_produits(fichier_csv):\n",
    "    produits = pd.read_csv(fichier_csv)\n",
    "\n",
    "    # Suppression de la colonne 'shipping_limit_date' :\n",
    "    produits.drop(columns=['shipping_limit_date'], inplace=True)\n",
    "    \n",
    "    # Agrégation des données pour chaque commande afin de les consolider :\n",
    "    produits = produits.groupby('order_id').agg({\n",
    "        'product_id': 'count',          # Nombre total de produits par commande\n",
    "        'seller_id': list,              # Liste des identifiants des vendeurs pour chaque commande\n",
    "        'price': 'mean',                # Prix moyen des produits dans chaque commande\n",
    "        'freight_value': 'mean'         # Valeur moyenne des frais de livraison par commande\n",
    "    }).reset_index()\n",
    "\n",
    "    # Conversion des listes de vendeurs en chaînes de caractères pour simplifier l'analyse :\n",
    "    produits['seller_id'] = produits['seller_id'].apply(lambda x: ''.join(x))\n",
    "    \n",
    "    # Affichage des premières lignes du DataFrame modifié pour vérification :\n",
    "    produits.head()\n",
    "    \n",
    "    return produits"
   ]
  },
  {
   "cell_type": "markdown",
   "id": "693672b3",
   "metadata": {},
   "source": [
    "### B.2- Table Commandes"
   ]
  },
  {
   "cell_type": "code",
   "execution_count": 3,
   "id": "806c02b0",
   "metadata": {},
   "outputs": [],
   "source": [
    "# Fonction pour nettoyer et transformer les données des commandes :\n",
    "def transformer_commandes(fichier_csv, date_ref):\n",
    "    commandes = pd.read_csv(fichier_csv)\n",
    "    \n",
    "    # Filtrer pour conserver uniquement les commandes livrées :\n",
    "    commandes = commandes[commandes['order_status'] == 'delivered']\n",
    "\n",
    "    # Suppression de la colonne 'order_status' devenue inutile :\n",
    "    commandes.drop(columns=['order_status'], inplace=True)\n",
    "    \n",
    "    # Conversion des colonnes de date en type datetime :\n",
    "    colonnes_dates = [\n",
    "        'order_delivered_customer_date',\n",
    "        'order_purchase_timestamp',\n",
    "        'order_approved_at',\n",
    "        'order_delivered_carrier_date',\n",
    "        'order_estimated_delivery_date'\n",
    "    ]\n",
    "    for date in colonnes_dates:\n",
    "        commandes[date] = pd.to_datetime(commandes[date])\n",
    "        \n",
    "    commandes = commandes[commandes.order_purchase_timestamp <= date_ref]\n",
    "    \n",
    "    # Suppression des lignes sans date de livraison au client :\n",
    "    commandes = commandes[commandes['order_delivered_customer_date'].notna()]\n",
    "    \n",
    "    # Extraction du mois de la commande :\n",
    "    commandes['Mois_achat'] = commandes['order_purchase_timestamp'].dt.month\n",
    "\n",
    "    # Extraction de l'année de la commande :\n",
    "    commandes['Annee_achat'] = commandes['order_purchase_timestamp'].dt.year\n",
    "\n",
    "    # Extraction de la semaine de la commande (calendrier ISO) :\n",
    "    commandes['Semaine_achat'] = commandes['order_purchase_timestamp'].apply(lambda x: x.isocalendar()[1])\n",
    "    \n",
    "    # Création d'une colonne pour le délai de livraison en jours :\n",
    "    commandes['Delais_livraison_jours'] = commandes['order_delivered_customer_date'] - commandes['order_purchase_timestamp']\n",
    "    commandes['Delais_livraison_jours'] = commandes['Delais_livraison_jours'].apply(lambda x: int(str(pd.Timedelta(x).round(freq='d')).split(' ')[0]))\n",
    "    \n",
    "    # Création d'une colonne pour le retard de livraison en jours :\n",
    "    commandes['Retard_livraison_jours'] = commandes['order_delivered_customer_date'] - commandes['order_estimated_delivery_date']\n",
    "    commandes['Retard_livraison_jours'] = commandes['Retard_livraison_jours'].apply(lambda x: int(str(pd.Timedelta(x).round(freq='d')).split(' ')[0]))\n",
    "    commandes['Retard_livraison_jours'] = commandes['Retard_livraison_jours'].apply(lambda x: 0 if x < 0 else x)\n",
    "    \n",
    "    ## Définir la date de référence comme étant \"maintenant\" en 2019 vu que la derniere date est de 2018\n",
    "    # Création d'une colonne pour le délai depuis le dernier achat (référence 2019) :\n",
    "    #now = np.datetime64(datetime.now(tz=ZoneInfo(\"America/Sao_Paulo\")) - relativedelta(years=6))\n",
    "    now = date_ref\n",
    "    commandes['Delais_dernier_achat_jours'] = commandes['order_purchase_timestamp'].apply(lambda x: int(str((now - x).round('d')).split(' ')[0]))\n",
    "    \n",
    "    # Suppression des colonnes de temps désormais inutiles :\n",
    "    commandes.drop(columns=[\n",
    "        #'order_purchase_timestamp',\n",
    "        'order_approved_at',\n",
    "        'order_delivered_carrier_date',\n",
    "        'order_delivered_customer_date',\n",
    "        'order_estimated_delivery_date'\n",
    "    ], inplace=True)\n",
    "    \n",
    "    return commandes"
   ]
  },
  {
   "cell_type": "markdown",
   "id": "1aa24e60",
   "metadata": {},
   "source": [
    "### B.3- Table reviews (commentaires)"
   ]
  },
  {
   "cell_type": "code",
   "execution_count": 4,
   "id": "2b5e3c7e",
   "metadata": {},
   "outputs": [],
   "source": [
    "# Fonction pour nettoyer et transformer les données des avis :\n",
    "def transformer_reviews(fichier_csv):\n",
    "    reviews = pd.read_csv(fichier_csv)\n",
    "    \n",
    "    # Transformation de la colonne des messages de commentaires :\n",
    "    reviews['review_comment_message'] = reviews['review_comment_message'].apply(lambda x: 1 if isinstance(x, str) else 0)\n",
    "\n",
    "    # Suppression des colonnes non nécessaires :\n",
    "    reviews.drop(columns=['review_id', 'review_comment_title', \n",
    "                          'review_creation_date', 'review_answer_timestamp', \n",
    "                          'review_comment_message'], inplace=True)\n",
    "    \n",
    "    # Agrégation des données par commande en prenant le minimum pour les scores (tendance à diminuer avec les messages des clients) :\n",
    "    reviews = reviews.groupby('order_id').mean().reset_index()\n",
    "\n",
    "    return reviews"
   ]
  },
  {
   "cell_type": "markdown",
   "id": "7fd8a1ed",
   "metadata": {},
   "source": [
    "### B.4- Table payments (paiements)"
   ]
  },
  {
   "cell_type": "code",
   "execution_count": 5,
   "id": "2eed9270",
   "metadata": {},
   "outputs": [],
   "source": [
    "# Fonction pour nettoyer et transformer les données des paiements :\n",
    "def transformer_payments(fichier_csv):\n",
    "    payments = pd.read_csv(fichier_csv)\n",
    "\n",
    "    # Regroupement des données par commande pour obtenir le nombre maximum d'échéances de paiement par commande :\n",
    "    max_installments = payments.groupby('order_id')['payment_installments'].max().to_frame()\n",
    "\n",
    "    # Transformation de la table pour avoir une ligne par commande et des colonnes pour chaque type de paiement :\n",
    "    payments_pivot = pd.pivot_table(payments, index='order_id', columns='payment_type', values='payment_value')\n",
    "\n",
    "    # Fusion des deux tables pour conserver les échéances maximales et les types de paiements :\n",
    "    payments = pd.merge(payments_pivot, max_installments, left_index=True, right_index=True)\n",
    "\n",
    "    # Réinitialisation de l'index pour transformer les index en colonnes :\n",
    "    payments.reset_index(inplace=True)\n",
    "\n",
    "    # Remplissage des valeurs manquantes avec zéro pour éviter les erreurs dans les calculs ultérieurs :\n",
    "    payments.fillna(0, inplace=True)\n",
    "    \n",
    "    # Suppression de la colonne 'not_defined' si elle existe, car elle n'est pas utile :\n",
    "    if 'not_defined' in payments.columns:\n",
    "        payments.drop(columns=['not_defined'], inplace=True)\n",
    "    \n",
    "    # Combinaison des colonnes 'credit_card' et 'debit_card' en une seule colonne 'CB' pour simplifier l'analyse :\n",
    "    if 'credit_card' in payments.columns and 'debit_card' in payments.columns:\n",
    "        payments['CB'] = payments['credit_card'] + payments['debit_card']\n",
    "        payments.drop(columns=['credit_card', 'debit_card'], inplace=True)\n",
    "\n",
    "    # Renommage des colonnes pour une meilleure compréhension :\n",
    "    payments.columns = ['order_id', 'Billets', 'Bons', 'Nombre_de_Paiement', 'CB']\n",
    "\n",
    "    # Suppression des colonnes 'Billets', 'Bons' et 'CB' car elles ne sont pas nécessaires pour le moment :\n",
    "    columns_to_drop = ['Billets', 'Bons', 'CB']\n",
    "    payments.drop(columns=[col for col in columns_to_drop if col in payments.columns], inplace=True)\n",
    "    \n",
    "    return payments"
   ]
  },
  {
   "cell_type": "markdown",
   "id": "6daa5fb8",
   "metadata": {},
   "source": [
    "### B.5- Table vendeurs"
   ]
  },
  {
   "cell_type": "code",
   "execution_count": 6,
   "id": "3e79a85d",
   "metadata": {},
   "outputs": [],
   "source": [
    "# Fonction pour nettoyer et transformer les données des vendeurs :\n",
    "def transformer_vendeurs(fichier_csv):\n",
    "    vendeurs = pd.read_csv(fichier_csv)\n",
    "    \n",
    "    # Suppression de la colonne 'seller_zip_code_prefix' car elle n'est pas nécessaire pour l'analyse :\n",
    "    vendeurs.drop(columns=['seller_zip_code_prefix'], inplace=True)\n",
    "    \n",
    "    # Suppression de la colonne 'seller_state' car elle n'est pas nécessaire pour l'analyse :\n",
    "    vendeurs.drop(columns=['seller_state'], inplace=True)\n",
    "    \n",
    "    return vendeurs"
   ]
  },
  {
   "cell_type": "markdown",
   "id": "960833f9",
   "metadata": {},
   "source": [
    "### B.6- Table géolocalisation"
   ]
  },
  {
   "cell_type": "code",
   "execution_count": 7,
   "id": "c214b0e2",
   "metadata": {},
   "outputs": [],
   "source": [
    "# Fonction pour nettoyer et transformer les données de géolocalisation :\n",
    "def transformer_geolocalisation(fichier_csv):\n",
    "    geolocalisation = pd.read_csv(fichier_csv)\n",
    "    \n",
    "    # Regroupement par ville pour obtenir les coordonnées moyennes de chaque ville :\n",
    "    geolocalisation = geolocalisation.groupby('geolocation_city').agg({\n",
    "        'geolocation_lat': 'mean',  # Calcul de la latitude moyenne\n",
    "        'geolocation_lng': 'mean',  # Calcul de la longitude moyenne\n",
    "        'geolocation_city': 'unique',  # Conservation du nom unique de la ville\n",
    "        'geolocation_state': 'unique'  # Conservation de l'état unique\n",
    "    })\n",
    "\n",
    "    # Création d'une nouvelle colonne 'Coordonnees' combinant latitude et longitude :\n",
    "    def combiner_coordonnees(value):\n",
    "        lat, long = value['geolocation_lat'], value['geolocation_lng']\n",
    "        return [lat, long]\n",
    "\n",
    "    geolocalisation['Coordonnees'] = geolocalisation[['geolocation_lat', 'geolocation_lng']].apply(combiner_coordonnees, axis=1)\n",
    "    \n",
    "    # Suppression des colonnes devenues inutiles après la création de 'Coordonnees' :\n",
    "    geolocalisation.drop(columns=['geolocation_lat', 'geolocation_lng', 'geolocation_state'], inplace=True)\n",
    "\n",
    "    # Simplification de la colonne 'geolocation_city' pour ne garder que le nom de la ville :\n",
    "    geolocalisation['geolocation_city'] = geolocalisation['geolocation_city'].apply(lambda x: x[0])\n",
    "    \n",
    "    # Réinitialisation de l'index pour une meilleure présentation :\n",
    "    geolocalisation.reset_index(drop=True, inplace=True)\n",
    "    \n",
    "    return geolocalisation"
   ]
  },
  {
   "cell_type": "markdown",
   "id": "06a25ada",
   "metadata": {},
   "source": [
    "### B.7- Table clients"
   ]
  },
  {
   "cell_type": "code",
   "execution_count": 8,
   "id": "d107a695",
   "metadata": {},
   "outputs": [],
   "source": [
    "# Fonction pour nettoyer et transformer les données des clients :\n",
    "def transformer_clients(fichier_csv):\n",
    "    clients = pd.read_csv(fichier_csv)\n",
    "\n",
    "    # Suppression de la colonne 'customer_zip_code_prefix' car elle n'est pas nécessaire pour l'analyse :\n",
    "    clients.drop(columns=['customer_zip_code_prefix'], inplace=True)\n",
    "    \n",
    "    # Suppression de la colonne 'customer_state' car elle n'est pas nécessaire pour l'analyse :\n",
    "    clients.drop(columns=['customer_state'], inplace=True)\n",
    "    \n",
    "    return clients"
   ]
  },
  {
   "cell_type": "markdown",
   "id": "0e4987be",
   "metadata": {},
   "source": [
    "# C- Jointure des fichiers et transformation des fichiers joints"
   ]
  },
  {
   "cell_type": "code",
   "execution_count": 9,
   "id": "2f94ff1f",
   "metadata": {},
   "outputs": [],
   "source": [
    "def transforme_fusion(date_ref):\n",
    "\n",
    "    # Nettoyage des fichiers :\n",
    "    produits = transformer_produits('olist_order_items_dataset.csv')\n",
    "    commandes = transformer_commandes('olist_orders_dataset.csv', date_ref)\n",
    "    reviews = transformer_reviews('olist_order_reviews_dataset.csv')\n",
    "    clients = transformer_clients('olist_customers_dataset.csv')\n",
    "\n",
    "    # Merge des fichiers pour créer le DataFrame final :\n",
    "    Data_Final = commandes.copy()  # Copier les données de commandes pour commencer la fusion\n",
    "    Data_Final = pd.merge(Data_Final, clients, how='inner')  # Fusionner avec les données de clients\n",
    "    Data_Final = pd.merge(Data_Final, reviews, how='inner')  # Fusionner avec les données d'avis\n",
    "    Data_Final = pd.merge(Data_Final, produits, how='inner')  # Fusionner avec les données de produits\n",
    "\n",
    "    # Suppression des colonnes d'ID non nécessaires (sauf l'ID unique) :\n",
    "    Data_Final.drop(columns=[ 'seller_id', 'product_id', 'customer_id', 'order_id', 'customer_city'], inplace=True)\n",
    "\n",
    "    # Suppression des colonnes de villes des clients et des vendeurs car elles ne sont pas utiles pour l'analyse :\n",
    "    #Data_Final.drop(columns=['customer_city', 'seller_city'], inplace=True)\n",
    "\n",
    "    # Création d'une colonne pour le nombre maximum de commandes par client unique :\n",
    "    Nombre_de_commande = Data_Final['customer_unique_id'].value_counts().to_frame().reset_index().rename(columns={'customer_unique_id': 'Nombre_de_commande', 'index': 'customer_unique_id'})\n",
    "    Data_Final = pd.merge(Data_Final, Nombre_de_commande, how='inner')\n",
    "\n",
    "    # Ajout d'une colonne pour le coût total avec frais de livraison :\n",
    "    Data_Final['CoutTotalAvecFraisDeLivraison'] = Data_Final['price'] + Data_Final['freight_value']\n",
    "\n",
    "    # Conversion de certaines colonnes de type float en type int pour éviter les erreurs de type :\n",
    "    colonnes_a_convertir = ['Delais_livraison_jours', 'Retard_livraison_jours', 'review_score']\n",
    "    for colonne in colonnes_a_convertir:\n",
    "        Data_Final[colonne] = Data_Final[colonne].astype(int)\n",
    "\n",
    "    # Transformation logarithmique pour certaines colonnes pour la normalisation des données :\n",
    "    colonnes_logarithmiques = ['CoutTotalAvecFraisDeLivraison']\n",
    "    for colonne in colonnes_logarithmiques:\n",
    "        Data_Final[colonne + '(log)'] = np.log1p(Data_Final[colonne])  # Utilisation de np.log1p pour éviter log(0)\n",
    "\n",
    "    df_simulation = Data_Final[[\"Delais_dernier_achat_jours\",\n",
    "                                           \"Nombre_de_commande\", \"CoutTotalAvecFraisDeLivraison(log)\",\n",
    "                                           \"review_score\", \"order_purchase_timestamp\"]]\n",
    "    return df_simulation"
   ]
  },
  {
   "cell_type": "code",
   "execution_count": 10,
   "id": "1fdf53e9",
   "metadata": {},
   "outputs": [],
   "source": [
    "data1 = transforme_fusion(np.datetime64(\"2017-12-31 00:00:00\"))\n",
    "data2 = transforme_fusion(np.datetime64(\"2018-01-31 00:00:00\"))"
   ]
  },
  {
   "cell_type": "code",
   "execution_count": 11,
   "id": "a37fef8d",
   "metadata": {},
   "outputs": [
    {
     "name": "stdout",
     "output_type": "stream",
     "text": [
      "Date du dernier achat 2017-12-30 23:53:28\n",
      "Date du premier achat 2016-09-15 12:16:38\n",
      "Date du dernier achat 2018-01-30 23:59:43\n",
      "Date du premier achat 2016-09-15 12:16:38\n"
     ]
    }
   ],
   "source": [
    "print(\"Date du dernier achat\", data1.order_purchase_timestamp.max())\n",
    "print(\"Date du premier achat\", data1.order_purchase_timestamp.min())\n",
    "\n",
    "print(\"Date du dernier achat\", data2.order_purchase_timestamp.max())\n",
    "print(\"Date du premier achat\", data2.order_purchase_timestamp.min())"
   ]
  },
  {
   "cell_type": "markdown",
   "id": "15effa47",
   "metadata": {},
   "source": [
    "## D- Initialisation avec un an de données. \n",
    "\n",
    "**Période T0** = 12 mois"
   ]
  },
  {
   "cell_type": "markdown",
   "id": "92f2c78b",
   "metadata": {},
   "source": [
    "#### T1=T0 + 60 jours"
   ]
  },
  {
   "cell_type": "code",
   "execution_count": 12,
   "id": "ce0a22ed",
   "metadata": {},
   "outputs": [
    {
     "data": {
      "text/plain": [
       "0.7970337221876305"
      ]
     },
     "execution_count": 12,
     "metadata": {},
     "output_type": "execute_result"
    }
   ],
   "source": [
    "from sklearn.metrics import adjusted_rand_score\n",
    "from pandas.tseries.offsets import DateOffset\n",
    "\n",
    "np_datetime = np.datetime64(\"2017-12-31 00:00:00\")\n",
    "dt_datetime = np_datetime.astype('M8[ms]').astype('O')\n",
    "result_datetime = dt_datetime - relativedelta(months=2)\n",
    "result_np_datetime = np.datetime64(result_datetime)\n",
    "\n",
    "# Filtrer les données pour la première année\n",
    "df_initial_year = transforme_fusion(np.datetime64(\"2017-12-31 00:00:00\"))\n",
    "# Filtrer les données pour la première année plus un nombre variable de jours\n",
    "df_adjusted_period = transforme_fusion(result_np_datetime)\n",
    "    \n",
    "# Supprimer la colonne des timestamps des commandes, car plus utile\n",
    "df_initial_year = df_initial_year.drop(\"order_purchase_timestamp\", axis=1)\n",
    "df_adjusted_period = df_adjusted_period.drop(\"order_purchase_timestamp\", axis=1)\n",
    "\n",
    "# Standardiser les données du premier jeu de données\n",
    "scaler_initial_year = StandardScaler()\n",
    "df_initial_year_scaled = pd.DataFrame(data=scaler_initial_year.fit_transform(df_initial_year), columns=df_initial_year.columns)\n",
    "\n",
    "# Standardiser les données du second jeu de données\n",
    "scaler_adjusted_period = StandardScaler()\n",
    "df_adjusted_period_scaled = pd.DataFrame(data=scaler_adjusted_period.fit_transform(df_adjusted_period), columns=df_adjusted_period.columns)\n",
    "\n",
    "# Appliquer l'algorithme KMeans pour le premier jeu de données\n",
    "kmeans_initial_year = KMeans(n_clusters=5, random_state=1)\n",
    "kmeans_initial_year.fit(df_initial_year_scaled)\n",
    "\n",
    "# Appliquer l'algorithme KMeans pour le second jeu de données\n",
    "kmeans_adjusted_period = KMeans(n_clusters=5, random_state=1)\n",
    "kmeans_adjusted_period.fit(df_adjusted_period_scaled)\n",
    "\n",
    "# Prédire les clusters pour le second jeu de données\n",
    "clusters_adjusted_period = kmeans_adjusted_period.predict(df_adjusted_period_scaled)\n",
    "# Prédire les clusters pour le second jeu de données en utilisant le modèle du premier jeu de données\n",
    "clusters_initial_year_transformed = kmeans_initial_year.predict(scaler_initial_year.transform(df_adjusted_period))\n",
    "\n",
    "# Calculer l'Adjusted Rand Index (ARI) entre les deux clusterings\n",
    "ari_score_60_jours = adjusted_rand_score(clusters_adjusted_period, clusters_initial_year_transformed)\n",
    "ari_score_60_jours"
   ]
  },
  {
   "cell_type": "markdown",
   "id": "60cbd9f6",
   "metadata": {},
   "source": [
    "#### T1=T0 + 30 jours"
   ]
  },
  {
   "cell_type": "code",
   "execution_count": 13,
   "id": "d09f6e65",
   "metadata": {},
   "outputs": [
    {
     "data": {
      "text/plain": [
       "0.8890317270034392"
      ]
     },
     "execution_count": 13,
     "metadata": {},
     "output_type": "execute_result"
    }
   ],
   "source": [
    "np_datetime = np.datetime64(\"2017-12-31 00:00:00\")\n",
    "dt_datetime = np_datetime.astype('M8[ms]').astype('O')\n",
    "result_datetime = dt_datetime - relativedelta(months=1)\n",
    "result_np_datetime = np.datetime64(result_datetime)\n",
    "\n",
    "# Filtrer les données pour la première année\n",
    "df_initial_year = transforme_fusion(np.datetime64(\"2017-12-31 00:00:00\"))\n",
    "# Filtrer les données pour la première année plus un nombre variable de jours\n",
    "df_adjusted_period = transforme_fusion(result_np_datetime)\n",
    "\n",
    "# Supprimer la colonne des timestamps des commandes, car plus utile\n",
    "df_initial_year = df_initial_year.drop(\"order_purchase_timestamp\", axis=1)\n",
    "df_adjusted_period = df_adjusted_period.drop(\"order_purchase_timestamp\", axis=1)\n",
    "\n",
    "# Standardiser les données du premier jeu de données\n",
    "scaler_initial_year = StandardScaler()\n",
    "df_initial_year_scaled = pd.DataFrame(data=scaler_initial_year.fit_transform(df_initial_year), columns=df_initial_year.columns)\n",
    "\n",
    "# Standardiser les données du second jeu de données\n",
    "scaler_adjusted_period = StandardScaler()\n",
    "df_adjusted_period_scaled = pd.DataFrame(data=scaler_adjusted_period.fit_transform(df_adjusted_period), columns=df_adjusted_period.columns)\n",
    "\n",
    "# Appliquer l'algorithme KMeans pour le premier jeu de données\n",
    "kmeans_initial_year = KMeans(n_clusters=5, random_state=1)\n",
    "kmeans_initial_year.fit(df_initial_year_scaled)\n",
    "\n",
    "# Appliquer l'algorithme KMeans pour le second jeu de données\n",
    "kmeans_adjusted_period = KMeans(n_clusters=5, random_state=1)\n",
    "kmeans_adjusted_period.fit(df_adjusted_period_scaled)\n",
    "\n",
    "# Prédire les clusters pour le second jeu de données\n",
    "clusters_adjusted_period = kmeans_adjusted_period.predict(df_adjusted_period_scaled)\n",
    "# Prédire les clusters pour le second jeu de données en utilisant le modèle du premier jeu de données\n",
    "clusters_initial_year_transformed = kmeans_initial_year.predict(scaler_initial_year.transform(df_adjusted_period))\n",
    "\n",
    "# Calculer l'Adjusted Rand Index (ARI) entre les deux clusterings\n",
    "ari_score_30_jours = adjusted_rand_score(clusters_adjusted_period, clusters_initial_year_transformed)\n",
    "ari_score_30_jours"
   ]
  },
  {
   "cell_type": "markdown",
   "id": "79a98e49",
   "metadata": {},
   "source": [
    "#### T1=T0 + 7 jours"
   ]
  },
  {
   "cell_type": "code",
   "execution_count": 14,
   "id": "b70ed781",
   "metadata": {},
   "outputs": [
    {
     "data": {
      "text/plain": [
       "0.9631213785865685"
      ]
     },
     "execution_count": 14,
     "metadata": {},
     "output_type": "execute_result"
    }
   ],
   "source": [
    "np_datetime = np.datetime64(\"2017-12-31 00:00:00\")\n",
    "dt_datetime = np_datetime.astype('M8[ms]').astype('O')\n",
    "result_datetime = dt_datetime - relativedelta(days=7)\n",
    "result_np_datetime = np.datetime64(result_datetime)\n",
    "\n",
    "# Filtrer les données pour la première année\n",
    "df_initial_year = transforme_fusion(np.datetime64(\"2017-12-31 00:00:00\"))\n",
    "# Filtrer les données pour la première année plus un nombre variable de jours\n",
    "df_adjusted_period = transforme_fusion(result_np_datetime)\n",
    "\n",
    "# Supprimer la colonne des timestamps des commandes, car plus utile\n",
    "df_initial_year = df_initial_year.drop(\"order_purchase_timestamp\", axis=1)\n",
    "df_adjusted_period = df_adjusted_period.drop(\"order_purchase_timestamp\", axis=1)\n",
    "\n",
    "# Standardiser les données du premier jeu de données\n",
    "scaler_initial_year = StandardScaler()\n",
    "df_initial_year_scaled = pd.DataFrame(data=scaler_initial_year.fit_transform(df_initial_year), columns=df_initial_year.columns)\n",
    "\n",
    "# Standardiser les données du second jeu de données\n",
    "scaler_adjusted_period = StandardScaler()\n",
    "df_adjusted_period_scaled = pd.DataFrame(data=scaler_adjusted_period.fit_transform(df_adjusted_period), columns=df_adjusted_period.columns)\n",
    "\n",
    "# Appliquer l'algorithme KMeans pour le premier jeu de données\n",
    "kmeans_initial_year = KMeans(n_clusters=5, random_state=1)\n",
    "kmeans_initial_year.fit(df_initial_year_scaled)\n",
    "\n",
    "# Appliquer l'algorithme KMeans pour le second jeu de données\n",
    "kmeans_adjusted_period = KMeans(n_clusters=5, random_state=1)\n",
    "kmeans_adjusted_period.fit(df_adjusted_period_scaled)\n",
    "\n",
    "# Prédire les clusters pour le second jeu de données\n",
    "clusters_adjusted_period = kmeans_adjusted_period.predict(df_adjusted_period_scaled)\n",
    "# Prédire les clusters pour le second jeu de données en utilisant le modèle du premier jeu de données\n",
    "clusters_initial_year_transformed = kmeans_initial_year.predict(scaler_initial_year.transform(df_adjusted_period))\n",
    "\n",
    "# Calculer l'Adjusted Rand Index (ARI) entre les deux clusterings\n",
    "ari_score_7_jours = adjusted_rand_score(clusters_adjusted_period, clusters_initial_year_transformed)\n",
    "ari_score_7_jours"
   ]
  },
  {
   "cell_type": "markdown",
   "id": "c00fb3e8",
   "metadata": {},
   "source": [
    "#### T1=T0 + 2 jours"
   ]
  },
  {
   "cell_type": "code",
   "execution_count": 15,
   "id": "b7ccb54e",
   "metadata": {},
   "outputs": [
    {
     "data": {
      "text/plain": [
       "0.98893661521683"
      ]
     },
     "execution_count": 15,
     "metadata": {},
     "output_type": "execute_result"
    }
   ],
   "source": [
    "np_datetime = np.datetime64(\"2017-12-31 00:00:00\")\n",
    "dt_datetime = np_datetime.astype('M8[ms]').astype('O')\n",
    "result_datetime = dt_datetime - relativedelta(days=2)\n",
    "result_np_datetime = np.datetime64(result_datetime)\n",
    "\n",
    "# Filtrer les données pour la première année\n",
    "df_initial_year = transforme_fusion(np.datetime64(\"2017-12-31 00:00:00\"))\n",
    "# Filtrer les données pour la première année plus un nombre variable de jours\n",
    "df_adjusted_period = transforme_fusion(result_np_datetime)\n",
    "    \n",
    "# Supprimer la colonne des timestamps des commandes, car plus utile\n",
    "df_initial_year = df_initial_year.drop(\"order_purchase_timestamp\", axis=1)\n",
    "df_adjusted_period = df_adjusted_period.drop(\"order_purchase_timestamp\", axis=1)\n",
    "\n",
    "# Standardiser les données du premier jeu de données\n",
    "scaler_initial_year = StandardScaler()\n",
    "df_initial_year_scaled = pd.DataFrame(data=scaler_initial_year.fit_transform(df_initial_year), columns=df_initial_year.columns)\n",
    "\n",
    "# Standardiser les données du second jeu de données\n",
    "scaler_adjusted_period = StandardScaler()\n",
    "df_adjusted_period_scaled = pd.DataFrame(data=scaler_adjusted_period.fit_transform(df_adjusted_period), columns=df_adjusted_period.columns)\n",
    "\n",
    "# Appliquer l'algorithme KMeans pour le premier jeu de données\n",
    "kmeans_initial_year = KMeans(n_clusters=5, random_state=1)\n",
    "kmeans_initial_year.fit(df_initial_year_scaled)\n",
    "\n",
    "# Appliquer l'algorithme KMeans pour le second jeu de données\n",
    "kmeans_adjusted_period = KMeans(n_clusters=5, random_state=1)\n",
    "kmeans_adjusted_period.fit(df_adjusted_period_scaled)\n",
    "\n",
    "# Prédire les clusters pour le second jeu de données\n",
    "clusters_adjusted_period = kmeans_adjusted_period.predict(df_adjusted_period_scaled)\n",
    "# Prédire les clusters pour le second jeu de données en utilisant le modèle du premier jeu de données\n",
    "clusters_initial_year_transformed = kmeans_initial_year.predict(scaler_initial_year.transform(df_adjusted_period))\n",
    "\n",
    "# Calculer l'Adjusted Rand Index (ARI) entre les deux clusterings\n",
    "ari_score_2_jours = adjusted_rand_score(clusters_adjusted_period, clusters_initial_year_transformed)\n",
    "ari_score_2_jours"
   ]
  },
  {
   "cell_type": "markdown",
   "id": "c147e55d",
   "metadata": {},
   "source": [
    "#### T1=T0 + 15 jours"
   ]
  },
  {
   "cell_type": "code",
   "execution_count": 16,
   "id": "e79756bf",
   "metadata": {},
   "outputs": [
    {
     "data": {
      "text/plain": [
       "0.9096897489988371"
      ]
     },
     "execution_count": 16,
     "metadata": {},
     "output_type": "execute_result"
    }
   ],
   "source": [
    "np_datetime = np.datetime64(\"2017-12-31 00:00:00\")\n",
    "dt_datetime = np_datetime.astype('M8[ms]').astype('O')\n",
    "result_datetime = dt_datetime - relativedelta(days=15)\n",
    "result_np_datetime = np.datetime64(result_datetime)\n",
    "\n",
    "# Filtrer les données pour la première année\n",
    "df_initial_year = transforme_fusion(np.datetime64(\"2017-12-31 00:00:00\"))\n",
    "# Filtrer les données pour la première année plus un nombre variable de jours\n",
    "df_adjusted_period = transforme_fusion(result_np_datetime)\n",
    "    \n",
    "# Supprimer la colonne des timestamps des commandes, car plus utile\n",
    "df_initial_year = df_initial_year.drop(\"order_purchase_timestamp\", axis=1)\n",
    "df_adjusted_period = df_adjusted_period.drop(\"order_purchase_timestamp\", axis=1)\n",
    "\n",
    "# Standardiser les données du premier jeu de données\n",
    "scaler_initial_year = StandardScaler()\n",
    "df_initial_year_scaled = pd.DataFrame(data=scaler_initial_year.fit_transform(df_initial_year), columns=df_initial_year.columns)\n",
    "\n",
    "# Standardiser les données du second jeu de données\n",
    "scaler_adjusted_period = StandardScaler()\n",
    "df_adjusted_period_scaled = pd.DataFrame(data=scaler_adjusted_period.fit_transform(df_adjusted_period), columns=df_adjusted_period.columns)\n",
    "\n",
    "# Appliquer l'algorithme KMeans pour le premier jeu de données\n",
    "kmeans_initial_year = KMeans(n_clusters=5, random_state=1)\n",
    "kmeans_initial_year.fit(df_initial_year_scaled)\n",
    "\n",
    "# Appliquer l'algorithme KMeans pour le second jeu de données\n",
    "kmeans_adjusted_period = KMeans(n_clusters=5, random_state=1)\n",
    "kmeans_adjusted_period.fit(df_adjusted_period_scaled)\n",
    "\n",
    "# Prédire les clusters pour le second jeu de données\n",
    "clusters_adjusted_period = kmeans_adjusted_period.predict(df_adjusted_period_scaled)\n",
    "# Prédire les clusters pour le second jeu de données en utilisant le modèle du premier jeu de données\n",
    "clusters_initial_year_transformed = kmeans_initial_year.predict(scaler_initial_year.transform(df_adjusted_period))\n",
    "\n",
    "# Calculer l'Adjusted Rand Index (ARI) entre les deux clusterings\n",
    "ari_score = adjusted_rand_score(clusters_adjusted_period, clusters_initial_year_transformed)\n",
    "ari_score"
   ]
  },
  {
   "cell_type": "code",
   "execution_count": 18,
   "id": "d5f6313d",
   "metadata": {},
   "outputs": [],
   "source": [
    "from dateutil.relativedelta import relativedelta\n",
    "\n",
    "# Initialiser une liste pour stocker les résultats de l'Adjusted Rand Index (ARI)\n",
    "ari_results = []\n",
    "\n",
    "# Calculer l'ARI pour différentes périodes (de 0 à 300 jours avec un pas de 15 jours)\n",
    "for days_offset in range(0, 300, 15):\n",
    "    np_datetime = np.datetime64(\"2017-12-31 00:00:00\")\n",
    "    dt_datetime = np_datetime.astype('M8[ms]').astype('O')\n",
    "    result_datetime = dt_datetime - relativedelta(days=days_offset)\n",
    "    result_np_datetime = np.datetime64(result_datetime)\n",
    "\n",
    "    # Filtrer les données pour la première année\n",
    "    df_initial_year = transforme_fusion(np_datetime)\n",
    "    # Filtrer les données pour la première année plus un nombre variable de jours\n",
    "    df_adjusted_period = transforme_fusion(result_np_datetime)\n",
    "\n",
    "    # Supprimer la colonne des timestamps des commandes, car plus utile\n",
    "    df_initial_year = df_initial_year.drop(\"order_purchase_timestamp\", axis=1)\n",
    "    df_adjusted_period = df_adjusted_period.drop(\"order_purchase_timestamp\", axis=1)\n",
    "\n",
    "    # Standardiser les données du premier jeu de données\n",
    "    scaler_initial_year = StandardScaler()\n",
    "    df_initial_year_scaled = pd.DataFrame(data=scaler_initial_year.fit_transform(df_initial_year), columns=df_initial_year.columns)\n",
    "\n",
    "    # Standardiser les données du second jeu de données\n",
    "    scaler_adjusted_period = StandardScaler()\n",
    "    df_adjusted_period_scaled = pd.DataFrame(data=scaler_adjusted_period.fit_transform(df_adjusted_period), columns=df_adjusted_period.columns)\n",
    "\n",
    "    # Appliquer l'algorithme KMeans pour le premier jeu de données\n",
    "    kmeans_initial_year = KMeans(n_clusters=5, random_state=1)\n",
    "    kmeans_initial_year.fit(df_initial_year_scaled)\n",
    "\n",
    "    # Appliquer l'algorithme KMeans pour le second jeu de données\n",
    "    kmeans_adjusted_period = KMeans(n_clusters=5, random_state=1)\n",
    "    kmeans_adjusted_period.fit(df_adjusted_period_scaled)\n",
    "\n",
    "    # Prédire les clusters pour le second jeu de données\n",
    "    clusters_adjusted_period = kmeans_adjusted_period.predict(df_adjusted_period_scaled)\n",
    "    # Prédire les clusters pour le second jeu de données en utilisant le modèle du premier jeu de données\n",
    "    clusters_initial_year_transformed = kmeans_initial_year.predict(scaler_initial_year.transform(df_adjusted_period))\n",
    "\n",
    "    # Calculer l'Adjusted Rand Index (ARI) entre les deux clusterings\n",
    "    ari_score_jours = adjusted_rand_score(clusters_adjusted_period, clusters_initial_year_transformed)\n",
    "\n",
    "    # Ajouter le résultat à la liste\n",
    "    ari_results.append((days_offset, ari_score_jours))"
   ]
  },
  {
   "cell_type": "code",
   "execution_count": 19,
   "id": "55b9baa2",
   "metadata": {},
   "outputs": [
    {
     "name": "stdout",
     "output_type": "stream",
     "text": [
      "    periode       ARI\n",
      "0         0  1.000000\n",
      "1        15  0.909690\n",
      "2        30  0.891480\n",
      "3        45  0.854361\n",
      "4        60  0.446424\n",
      "5        75  0.750739\n",
      "6        90  0.688220\n",
      "7       105  0.652350\n",
      "8       120  0.340948\n",
      "9       135  0.576997\n",
      "10      150  0.536375\n",
      "11      165  0.521428\n",
      "12      180  0.518703\n",
      "13      195  0.520832\n",
      "14      210  0.507006\n",
      "15      225  0.510563\n",
      "16      240  0.664524\n",
      "17      255  0.581854\n",
      "18      270  0.651431\n",
      "19      285  0.476482\n"
     ]
    }
   ],
   "source": [
    "# Convertir les résultats en DataFrame pour une meilleure visualisation\n",
    "df_ari_results = pd.DataFrame(ari_results, columns=['periode', 'ARI'])\n",
    "\n",
    "# Afficher le DataFrame des résultats\n",
    "print(df_ari_results)"
   ]
  },
  {
   "cell_type": "code",
   "execution_count": 20,
   "id": "00eb8591",
   "metadata": {},
   "outputs": [
    {
     "data": {
      "image/png": "[encoded data removed]",
      "text/plain": [
       "<Figure size 1000x600 with 1 Axes>"
      ]
     },
     "metadata": {},
     "output_type": "display_data"
    }
   ],
   "source": [
    "# Créer une figure pour le graphique avec une taille spécifique\n",
    "plt.figure(figsize=(10, 6))\n",
    "\n",
    "# Tracer les résultats de l'ARI en fonction de la période\n",
    "plt.plot(df_ari_results['periode'], df_ari_results['ARI'], marker='o', linestyle='-')\n",
    "\n",
    "# Ajouter un titre au graphique\n",
    "plt.title(\"Evolution de l'ARI en fonction de la période\", fontsize=18, color=\"b\")\n",
    "plt.xlabel('Période (15 jours)', fontsize=14)\n",
    "plt.ylabel('Score ARI', fontsize=14)\n",
    "\n",
    "# Ajouter une grille pour améliorer la lisibilité\n",
    "plt.grid(True)\n",
    "\n",
    "# Afficher le graphique\n",
    "plt.show()"
   ]
  },
  {
   "cell_type": "markdown",
   "id": "c4fe65c3",
   "metadata": {},
   "source": [
    "On remarque une stabilité du score ARI jusqu'à environ 45 jours, suivie d'une chute marquée. Après environ 50 jours, il y a une légère remontée, mais la tendance générale est à la baisse continue avec des fluctuations autour de 150 jours. Vers 225 jours, on observe un rebond, suivi de nouvelles fluctuations, mais la tendance générale continue de baisser jusqu'à 300 jours. Cette diminution constante pourrait s'expliquer par les cycles de commande observés dans l'analyse exploratoire."
   ]
  },
  {
   "cell_type": "markdown",
   "id": "2f5f06f8",
   "metadata": {},
   "source": [
    "**Surveillance Continue** : Continuez à surveiller l'ARI après chaque ré-entraînement pour ajuster les intervalles si nécessaire.\n",
    "\n",
    "\n",
    "**Adaptation Flexible** : Ajustez les périodes de ré-entraînement en fonction des nouvelles données et des tendances observées."
   ]
  },
  {
   "cell_type": "code",
   "execution_count": null,
   "id": "aed5347d",
   "metadata": {},
   "outputs": [],
   "source": []
  },
  {
   "cell_type": "code",
   "execution_count": null,
   "id": "a7ee85ff",
   "metadata": {},
   "outputs": [],
   "source": []
  }
 ],
 "metadata": {
  "kernelspec": {
   "display_name": "Python 3 (ipykernel)",
   "language": "python",
   "name": "python3"
  },
  "language_info": {
   "codemirror_mode": {
    "name": "ipython",
    "version": 3
   },
   "file_extension": ".py",
   "mimetype": "text/x-python",
   "name": "python",
   "nbconvert_exporter": "python",
   "pygments_lexer": "ipython3",
   "version": "3.9.13"
  }
 },
 "nbformat": 4,
 "nbformat_minor": 5
}
